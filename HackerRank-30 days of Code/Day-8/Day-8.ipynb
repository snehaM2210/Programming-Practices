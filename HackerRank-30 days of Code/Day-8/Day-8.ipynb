{
 "cells": [
  {
   "cell_type": "code",
   "execution_count": null,
   "metadata": {},
   "outputs": [
    {
     "name": "stdin",
     "output_type": "stream",
     "text": [
      " 3\n",
      " harry 23456789\n",
      " sam 43215678\n",
      " wert 45321890\n",
      " harry\n"
     ]
    },
    {
     "name": "stdout",
     "output_type": "stream",
     "text": [
      "harry=23456789\n"
     ]
    },
    {
     "name": "stdin",
     "output_type": "stream",
     "text": [
      " sam\n"
     ]
    },
    {
     "name": "stdout",
     "output_type": "stream",
     "text": [
      "sam=43215678\n"
     ]
    },
    {
     "name": "stdin",
     "output_type": "stream",
     "text": [
      " wqert\n"
     ]
    },
    {
     "name": "stdout",
     "output_type": "stream",
     "text": [
      "Not found\n"
     ]
    }
   ],
   "source": [
    "n=int(input())\n",
    "name_num=[input().split() for _ in range (n)]\n",
    "pBook={k: v for k,v in name_num}\n",
    "while True:\n",
    "    try:\n",
    "        name=input()\n",
    "        if(name in pBook):\n",
    "            print(\"%s=%s\" %(name,pBook[name]))\n",
    "        else:\n",
    "            print(\"Not found\")\n",
    "    except:\n",
    "        break"
   ]
  },
  {
   "cell_type": "code",
   "execution_count": null,
   "metadata": {},
   "outputs": [],
   "source": []
  }
 ],
 "metadata": {
  "kernelspec": {
   "display_name": "Python 3",
   "language": "python",
   "name": "python3"
  },
  "language_info": {
   "codemirror_mode": {
    "name": "ipython",
    "version": 3
   },
   "file_extension": ".py",
   "mimetype": "text/x-python",
   "name": "python",
   "nbconvert_exporter": "python",
   "pygments_lexer": "ipython3",
   "version": "3.8.3"
  }
 },
 "nbformat": 4,
 "nbformat_minor": 4
}
